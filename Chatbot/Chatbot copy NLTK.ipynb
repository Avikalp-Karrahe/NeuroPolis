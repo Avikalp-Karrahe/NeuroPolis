{
  "cells": [
    {
      "cell_type": "code",
      "execution_count": null,
      "metadata": {
        "id": "ggjHGOTnyI92"
      },
      "outputs": [],
      "source": [
        "import io\n",
        "import random\n",
        "import string # to process standard Python strings\n",
        "import warnings\n",
        "import numpy as np\n",
        "from sklearn.feature_extraction.text import TfidfVectorizer\n",
        "from sklearn.metrics.pairwise import cosine_similarity\n",
        "import warnings\n",
        "warnings.filterwarnings('ignore')\n",
        "from google.colab import auth\n",
        "from googleapiclient.discovery import build\n",
        "from googleapiclient.errors import HttpError\n",
        "# Authenticate and create the API client\n",
        "auth.authenticate_user()\n",
        "docs_service = build('docs', 'v1')"
      ]
    },
    {
      "cell_type": "code",
      "execution_count": null,
      "metadata": {
        "colab": {
          "base_uri": "https://localhost:8080/"
        },
        "id": "cMXowQyQynd5",
        "outputId": "fa375588-5374-4fe4-ab10-2718ac984ff9"
      },
      "outputs": [
        {
          "name": "stdout",
          "output_type": "stream",
          "text": [
            "Requirement already satisfied: nltk in /usr/local/lib/python3.10/dist-packages (3.8.1)\n",
            "Requirement already satisfied: click in /usr/local/lib/python3.10/dist-packages (from nltk) (8.1.7)\n",
            "Requirement already satisfied: joblib in /usr/local/lib/python3.10/dist-packages (from nltk) (1.4.2)\n",
            "Requirement already satisfied: regex>=2021.8.3 in /usr/local/lib/python3.10/dist-packages (from nltk) (2024.9.11)\n",
            "Requirement already satisfied: tqdm in /usr/local/lib/python3.10/dist-packages (from nltk) (4.66.5)\n"
          ]
        }
      ],
      "source": [
        "pip install nltk #Natural Language Toolkit"
      ]
    },
    {
      "cell_type": "code",
      "execution_count": null,
      "metadata": {
        "colab": {
          "base_uri": "https://localhost:8080/"
        },
        "id": "qbLhGMYoypJD",
        "outputId": "7a754154-8033-4e3a-cc1e-e7f050dc5aa7"
      },
      "outputs": [
        {
          "data": {
            "text/plain": [
              "True"
            ]
          },
          "execution_count": 3,
          "metadata": {},
          "output_type": "execute_result"
        }
      ],
      "source": [
        "import nltk\n",
        "from nltk.stem import WordNetLemmatizer\n",
        "nltk.download('popular', quiet=True) # for downloading packages\n",
        "#nltk.download('punkt') # first-time use only\n",
        "#nltk.download('wordnet') # first-time use only"
      ]
    },
    {
      "cell_type": "code",
      "execution_count": null,
      "metadata": {
        "colab": {
          "base_uri": "https://localhost:8080/"
        },
        "id": "8eTAingO1LGn",
        "outputId": "dd7ddf7e-fba4-4cf6-a77a-c3ae20ea9d7f"
      },
      "outputs": [
        {
          "name": "stdout",
          "output_type": "stream",
          "text": [
            "coca-cola statement of work\n",
            " project objectives \n",
            "the main objective of this project (1) is to train and develop a chatbot that summarizes, diagnoses and identifies dispenser issues and assist coca-cola teams in querying and understanding data related to dispenser performance and maintenance. this will also help with the following:\n",
            "·   \tincrease engineering productivity associated with java log analysis\n",
            "·   \tproactive identification and preventative maintenance from developed heuristics and algorithms\n",
            " \n",
            "business questions\n",
            "the following are some of the business questions that we will answer:\n",
            "·   \tcan we track the total number of times the door has been opened for each freestyle machine, and what patterns can we identify related to machine usage or potential maintenance events?\n",
            "how can we use the total number of reboots per machine to identify potential maintenance issues or early signs of malfunctioning equipment?\n",
            "·   \tcan the user-friendly prompts in chatbot help coca-cola teams identify potential maintenance needs by analyzing door open events, pour activity, reboot summaries, trouble analysis, and comparative analysis to prevent machine failures?\n",
            " \n",
            "data description\n",
            "data sources\n",
            "this project's data originates from two sources:\n",
            " \n",
            "local files: the local files include five excel/csv files with logs and metrics from four distinct coca-cola freestyle machines. they were imported into analytical tools like excel and power bi for cleaning and exploratory analysis.\n",
            " \n",
            "cloud storage: the cloud data is kept in amazon redshift, a large dataset that includes historical records and various information about the freestyle dispensers. using sql clients in power bi, a direct connection to redshift is established, allowing real-time querying and data retrieval for detailed analysis.\n",
            " \n",
            "data dimensions\n",
            "the combined dataset is large, with 4,194,304 rows and 8 columns. this large volume of data provides a rich source of analysis, allowing for deep insights into machine behavior and performance trends.\n",
            " \n",
            "following are the data variables:\n",
            "serialnumber, which identifies specific machines\n",
            "log_level which indicates the severity of log entries\n",
            "module, which identifies the system component that generates each log\n",
            "data, which contains detailed information about events or actions\n",
            "log_dtm, which contains the log ingestion timestamp\n",
            " \n",
            " \n",
            "project scope\n",
            "the scope of this project is to design and implement a chatbot that allows coca-cola teams to query and interpret data related to freestyle dispenser performance and maintenance activities. the chatbot will provide insights on the following key activities:\n",
            "door open activity: track the total number of door open activities per machine, with analysis to identify patterns that could indicate potential maintenance or improper usage.\n",
            "·   \tpour activity: summarize the pour activity of each machine, including to identify potential optimization opportunities for machine performance\n",
            "o   total number/frequency of pours and types of drinks dispensed\n",
            "drink size and volume of beverages poured\n",
            " \n",
            "reboot activity: track and report the total number of machine reboots.\n",
            "identify patterns and detect any indicators of maintenance needed.\n",
            " \n",
            "trouble analysis: analyze data to detect patterns and predict potential machine failures.\n",
            "help coca-cola reduce downtime\n",
            "optimize operational efficiency\n",
            " \n",
            "comparative analysis: compare data from all dispensers in the fleet to find valuable insights.\n",
            "compare the selected dispenser's metrics (such as pour activity, door opens, and reboots) with fleet averages or benchmarks.\n",
            "provide visual and analytical summaries to illustrate how the selected dispenser performs relative to fleet-wide performance.\n",
            " \n",
            "chatbot capabilities: although a chatbot can be used to answer multiple questions and queries, we will only focus on the following:\n",
            "integrate with existing coca-cola data sources to retrieve and analyze data and provide user-friendly, real-time responses to queries regarding machine performance. \n",
            "currently, the project is utilizing four csv files containing dispenser logs provided by coca-cola that contains 6 columns. as more data becomes available, including additional logs and dispenser usage records, we will extend the chatbot’s capabilities to provide more comprehensive insights and analyses across all dispensers.\n",
            " \n",
            "out of scope\n",
            "since the overall project is divided into two parts, following are some out of scope work for project 1:\n",
            " \n",
            "·   \tbeverage inventory management and optimization are out of scope.\n",
            "·   \tregular maintenance and reboot changes/suggestions are not a part of the project.\n",
            "·   \tno dashboard has been requested as a deliverable.\n",
            "·   \tcost factoring and savings of the overall project is part of project 2.\n",
            " \n",
            " \n",
            " \n",
            "tasks\n",
            "(concise list of our tasks is visualized in this flowchart.)\u000b\u000b\n",
            "1. project understanding\n",
            "we started with and will continue to do research and answer questions for proper understanding of problem statement and expectations. this helped us formulate the business questions and also allowed us to discuss the requirements and scope of work. thereafter, we created a timeline and detailed project plan.\n",
            " \n",
            "this portion also includes eda that comprises of identifying the data sources such as excel files and or databases, understanding the data format and schema, analyzing the data through some basic visualization, and performing some data cleaning, and reformatting as needed.\n",
            " \n",
            "2. chatbot research\n",
            "we will start with a basic chatbot, and learn how they work, their architecture and their parameters. after this, we will go into putting together the data we have gathered and integrating it into the chatbot. we will also explore with the llm (chatgpt/openai models) and its customization.\n",
            " \n",
            "3. environment set up\n",
            "in order to successfully explore and create a final product, we will need to start by setting up the correct technical environments for data exploration and training. we will ensure that:\n",
            "·   \twe are able to query correctly the data and that this can be replicated for larger datasets\n",
            "all of our python environments/ microsoft fabric (if used) are up and running.\n",
            "all power bi environments have proper view/edit access.\n",
            "able to access api token and that it works with the chat gpt model. \n",
            " \n",
            "4. chatbot development \n",
            "with the requirement gathering, research and literature review and environment set up, we are ready for chatbot development. in this phase, we will:\n",
            "·   \tcreate a basic chatbot that reviews data for basic responses\n",
            "·   \timplement open ai tokens and measure accuracy of responses\n",
            "·   \tcontext data will be added along with concise prompt engineering\n",
            "·   \tpresent mvp of the chatbot to the coca-cola team\n",
            " \n",
            "5. chatbot refinement \n",
            "once we have the mvp, we will work on its refinement. we will explore multiple models and fine tune the model based on compared model accuracy. we will work with the coca-cola experts for further enhancement of real learning from human feedback (rlhf).\n",
            " \n",
            "6. implementation and improvement\n",
            "the chatbot with the agreed upon model will be presented to the mip. further discussions for implementation phases and outcomes will help further strengthen the chatbot results. for general availability the users, change management processes can be discussed.\u000b\u000b\n",
            " \n",
            "project deliverables\n",
            "exploratory data analysis\n",
            "on a high level, we will provide eda details on the following data to find trends. the outcomes of these will be used in the chatbot later to further enhance trouble and comparative analysis.\n",
            "·   \tanalyzing door open activities events over time helps identify trends that could point to periods of high usage or potential issues. cross-referencing door open events with maintenance records can further highlight correlations and point to required maintenance activities.\n",
            "·   \tanalyzing the frequency of specific drink types can provide insights into consumer preferences and can relate to higher failures for specific beverage types. histograms and bar plots can be used to visualize the distribution of pour sizes and drink types, helping identify any trends or outliers.\n",
            "·   \tthe reboot summary can track the total number of machine reboots to assess system reliability. frequent reboots could indicate underlying hardware or software issues, and by analyzing whether these correlate with maintenance records, patterns of malfunction can be identified.\n",
            " \n",
            "chatbot mvp\n",
            "we will create a basic chatbot capable of handling simple queries related to dispenser data. based on the project proposal document provided by coca-cola, we will some of the simple queries are:\n",
            "·   \t\"how many times has the door been opened for machine z?\"\n",
            "·   \t\"summarize pour activity for machine x from mm/dd/yyyy to mm/dd/yyyy.\"\n",
            "·   \t\"what is the most frequently dispensed drink types this week?\"\n",
            "·   \t\"how often did machine z reboot over the last 30 days?\"\n",
            "     \n",
            "final chatbot\n",
            "to enhance the chatbot's functionality, machine learning models will be integrated to predict potential maintenance needs based on patterns observed in reboot, pour, and door open data. by analyzing historical data, these models can identify trends and provide early warnings about potential system failures. the models will be trained and back-tested using past data to validate their accuracy.\n",
            " \n",
            "user interface: the chatbot’s interface will be designed with user-friendliness in\u000bmind for internal teams. the output formatting will be enhanced for easy readability, displaying tables, charts, and maintenance alerts in a clear and organized manner. this ensures that the insights provided by the chatbot are easily actionable by the maintenance teams, allowing them to prioritize tasks efficiently based on the data-driven insights generated by the models.\n",
            " \n",
            "additional features: to further improve the chatbot’s capabilities, implementing anomaly detection can automatically flag machines exhibiting unusual behavior, such as spikes in reboot events or abnormal pour activity, alerting the maintenance team promptly.\n",
            " \n",
            "additionally, the chatbot can generate performance reports, providing regular summaries (e.g., weekly or monthly) of machine performance and highlighting any critical issues. these reports can help maintenance teams stay informed of trends and potential problems, enabling preventive maintenance and ensuring smooth operations.\n",
            "\n",
            " \n",
            "timeline\n",
            "in order to keep in track with our project deadlines, we will be following the following timeline\n",
            " detailed breakdown of tasks and timeline can be found here.\n",
            " \n",
            "\n",
            "\n",
            "\n",
            "\n"
          ]
        }
      ],
      "source": [
        "DOCUMENT_ID = '1GnUUSg_0qENzcgj85gJQa6Ou18zfd0xM_deqYZultWo'\n",
        "\n",
        "def get_document_text(doc_id):\n",
        "    try:\n",
        "        doc = docs_service.documents().get(documentId=doc_id).execute()\n",
        "        content = doc.get('body').get('content')\n",
        "\n",
        "        text = ''\n",
        "        for element in content:\n",
        "            if 'paragraph' in element:\n",
        "                elements = element['paragraph']['elements']\n",
        "                for elem in elements:\n",
        "                    if 'textRun' in elem:\n",
        "                        text += elem['textRun']['content']\n",
        "        return text\n",
        "    except HttpError as error:\n",
        "        print(f'An error occurred: {error}')\n",
        "        return None\n",
        "\n",
        "# Fetch and process the document's content\n",
        "raw = get_document_text(DOCUMENT_ID)\n",
        "if raw:\n",
        "    raw = raw.lower()  # Convert to lowercase\n",
        "    print(raw)\n"
      ]
    },
    {
      "cell_type": "code",
      "execution_count": null,
      "metadata": {
        "id": "uEthxxZV1WoD"
      },
      "outputs": [],
      "source": [
        "sent_tokens = nltk.sent_tokenize(raw)# converts to list of sentences\n",
        "word_tokens = nltk.word_tokenize(raw)# converts to list of words\n",
        "lemmer = nltk.stem.WordNetLemmatizer()\n",
        "#WordNet is a semantically-oriented dictionary of English included in NLTK.\n",
        "def LemTokens(tokens):\n",
        "    return [lemmer.lemmatize(token) for token in tokens]\n",
        "remove_punct_dict = dict((ord(punct), None) for punct in string.punctuation)\n",
        "\n",
        "def LemNormalize(text):\n",
        "    return LemTokens(nltk.word_tokenize(text.lower().translate(remove_punct_dict)))"
      ]
    },
    {
      "cell_type": "code",
      "execution_count": null,
      "metadata": {
        "id": "HcpLXe4x1bxT"
      },
      "outputs": [],
      "source": [
        "GREETING_INPUTS = (\"hello\", \"hi\", \"greetings\", \"sup\", \"what's up\",\"hey\",)\n",
        "GREETING_RESPONSES = [\"hi\", \"hey\", \"*nods*\", \"hi there\", \"hello\", \"I am glad! You are talking to me\"]\n",
        "def greeting(sentence):\n",
        "\n",
        "    for word in sentence.split():\n",
        "        if word.lower() in GREETING_INPUTS:\n",
        "            return random.choice(GREETING_RESPONSES)"
      ]
    },
    {
      "cell_type": "code",
      "execution_count": null,
      "metadata": {
        "id": "MJZGowc91fUR"
      },
      "outputs": [],
      "source": [
        "def response(user_response):\n",
        "    robo_response=''\n",
        "    sent_tokens.append(user_response)\n",
        "    TfidfVec = TfidfVectorizer(tokenizer=LemNormalize, stop_words='english')\n",
        "    tfidf = TfidfVec.fit_transform(sent_tokens)\n",
        "    vals = cosine_similarity(tfidf[-1], tfidf)\n",
        "    idx=vals.argsort()[0][-2]\n",
        "    flat = vals.flatten()\n",
        "    flat.sort()\n",
        "    req_tfidf = flat[-2]\n",
        "    if(req_tfidf==0):\n",
        "        robo_response=robo_response+\"I am sorry! I don't understand you\"\n",
        "        return robo_response\n",
        "    else:\n",
        "        robo_response = robo_response+sent_tokens[idx]\n",
        "        return robo_response"
      ]
    },
    {
      "cell_type": "code",
      "execution_count": null,
      "metadata": {
        "colab": {
          "base_uri": "https://localhost:8080/"
        },
        "id": "cpuHr8Ds1mME",
        "outputId": "fbc88d8a-20e4-43f7-f26e-4f6eabfc92bd"
      },
      "outputs": [
        {
          "name": "stdout",
          "output_type": "stream",
          "text": [
            "My name is Freestyle Genie. I will answer your queries about Coca-Cola. To exit, type cola!\n",
            "hi\n",
            "Freestyle Genie:hey\n",
            "what is door open activity\n",
            "Freestyle Genie:the chatbot will provide insights on the following key activities:\n",
            "door open activity: track the total number of door open activities per machine, with analysis to identify patterns that could indicate potential maintenance or improper usage.\n",
            "tell me about reboot analysis\n",
            "Freestyle Genie:·   \tcan the user-friendly prompts in chatbot help coca-cola teams identify potential maintenance needs by analyzing door open events, pour activity, reboot summaries, trouble analysis, and comparative analysis to prevent machine failures?\n",
            "cola\n",
            "Freestyle Genie: Bye! take care..\n"
          ]
        }
      ],
      "source": [
        "flag=True\n",
        "print(\"My name is Freestyle Genie. I will answer your queries about Coca-Cola. To exit, type cola!\")\n",
        "while(flag==True):\n",
        "    user_response = input()\n",
        "    user_response=user_response.lower()\n",
        "    if(user_response!='cola'):\n",
        "        if(user_response=='thanks' or user_response=='thank you' ):\n",
        "            flag=False\n",
        "            print(\"You are welcome..\")\n",
        "        else:\n",
        "            if(greeting(user_response)!=None):\n",
        "                print(\"Freestyle Genie:\"+greeting(user_response))\n",
        "            else:\n",
        "                print(\"Freestyle Genie:\",end=\"\")\n",
        "                print(response(user_response))\n",
        "                sent_tokens.remove(user_response)\n",
        "    else:\n",
        "        flag=False\n",
        "        print(\"Freestyle Genie: Bye! take care..\")"
      ]
    }
  ],
  "metadata": {
    "colab": {
      "provenance": []
    },
    "kernelspec": {
      "display_name": "Python 3",
      "name": "python3"
    },
    "language_info": {
      "codemirror_mode": {
        "name": "ipython",
        "version": 3
      },
      "file_extension": ".py",
      "mimetype": "text/x-python",
      "name": "python",
      "nbconvert_exporter": "python",
      "pygments_lexer": "ipython3",
      "version": "3.9.6"
    }
  },
  "nbformat": 4,
  "nbformat_minor": 0
}